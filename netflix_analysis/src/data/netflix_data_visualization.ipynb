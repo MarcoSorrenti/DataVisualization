{
 "cells": [
  {
   "cell_type": "code",
   "execution_count": 168,
   "metadata": {},
   "outputs": [],
   "source": [
    "import pandas as pd"
   ]
  },
  {
   "cell_type": "code",
   "execution_count": 169,
   "metadata": {},
   "outputs": [
    {
     "data": {
      "text/html": [
       "<div>\n",
       "<style scoped>\n",
       "    .dataframe tbody tr th:only-of-type {\n",
       "        vertical-align: middle;\n",
       "    }\n",
       "\n",
       "    .dataframe tbody tr th {\n",
       "        vertical-align: top;\n",
       "    }\n",
       "\n",
       "    .dataframe thead th {\n",
       "        text-align: right;\n",
       "    }\n",
       "</style>\n",
       "<table border=\"1\" class=\"dataframe\">\n",
       "  <thead>\n",
       "    <tr style=\"text-align: right;\">\n",
       "      <th></th>\n",
       "      <th>Unnamed: 0</th>\n",
       "      <th>type</th>\n",
       "      <th>title</th>\n",
       "      <th>director</th>\n",
       "      <th>cast</th>\n",
       "      <th>country</th>\n",
       "      <th>date_added</th>\n",
       "      <th>release_year</th>\n",
       "      <th>rating</th>\n",
       "      <th>duration</th>\n",
       "      <th>listed_in</th>\n",
       "      <th>description</th>\n",
       "      <th>month_added</th>\n",
       "      <th>month_name_added</th>\n",
       "      <th>year_added</th>\n",
       "      <th>listed_in_1</th>\n",
       "      <th>listed_in_2</th>\n",
       "      <th>listed_in_3</th>\n",
       "    </tr>\n",
       "  </thead>\n",
       "  <tbody>\n",
       "    <tr>\n",
       "      <th>0</th>\n",
       "      <td>0</td>\n",
       "      <td>Movie</td>\n",
       "      <td>Dick Johnson Is Dead</td>\n",
       "      <td>Kirsten Johnson</td>\n",
       "      <td>['Data not available']</td>\n",
       "      <td>United States</td>\n",
       "      <td>2021-09-25</td>\n",
       "      <td>2020</td>\n",
       "      <td>PG-13</td>\n",
       "      <td>90 min</td>\n",
       "      <td>['Documentaries']</td>\n",
       "      <td>As her father nears the end of his life, filmm...</td>\n",
       "      <td>9</td>\n",
       "      <td>September</td>\n",
       "      <td>2021</td>\n",
       "      <td>Documentaries</td>\n",
       "      <td>0</td>\n",
       "      <td>0</td>\n",
       "    </tr>\n",
       "    <tr>\n",
       "      <th>1</th>\n",
       "      <td>1</td>\n",
       "      <td>TV Show</td>\n",
       "      <td>Blood &amp; Water</td>\n",
       "      <td>Data not available</td>\n",
       "      <td>['Ama Qamata', 'Khosi Ngema', 'Gail Mabalane',...</td>\n",
       "      <td>South Africa</td>\n",
       "      <td>2021-09-24</td>\n",
       "      <td>2021</td>\n",
       "      <td>TV-MA</td>\n",
       "      <td>2 Seasons</td>\n",
       "      <td>['International TV Shows', 'TV Dramas', 'TV My...</td>\n",
       "      <td>After crossing paths at a party, a Cape Town t...</td>\n",
       "      <td>9</td>\n",
       "      <td>September</td>\n",
       "      <td>2021</td>\n",
       "      <td>International TV Shows</td>\n",
       "      <td>TV Dramas</td>\n",
       "      <td>TV Mysteries</td>\n",
       "    </tr>\n",
       "  </tbody>\n",
       "</table>\n",
       "</div>"
      ],
      "text/plain": [
       "   Unnamed: 0     type                 title            director  \\\n",
       "0           0    Movie  Dick Johnson Is Dead     Kirsten Johnson   \n",
       "1           1  TV Show         Blood & Water  Data not available   \n",
       "\n",
       "                                                cast        country  \\\n",
       "0                             ['Data not available']  United States   \n",
       "1  ['Ama Qamata', 'Khosi Ngema', 'Gail Mabalane',...   South Africa   \n",
       "\n",
       "   date_added  release_year rating   duration  \\\n",
       "0  2021-09-25          2020  PG-13     90 min   \n",
       "1  2021-09-24          2021  TV-MA  2 Seasons   \n",
       "\n",
       "                                           listed_in  \\\n",
       "0                                  ['Documentaries']   \n",
       "1  ['International TV Shows', 'TV Dramas', 'TV My...   \n",
       "\n",
       "                                         description  month_added  \\\n",
       "0  As her father nears the end of his life, filmm...            9   \n",
       "1  After crossing paths at a party, a Cape Town t...            9   \n",
       "\n",
       "  month_name_added  year_added             listed_in_1 listed_in_2  \\\n",
       "0        September        2021           Documentaries           0   \n",
       "1        September        2021  International TV Shows   TV Dramas   \n",
       "\n",
       "     listed_in_3  \n",
       "0              0  \n",
       "1   TV Mysteries  "
      ]
     },
     "execution_count": 169,
     "metadata": {},
     "output_type": "execute_result"
    }
   ],
   "source": [
    "netflix = pd.read_csv(\"netflix_cleaned.csv\")\n",
    "netflix.head(2)"
   ]
  },
  {
   "cell_type": "markdown",
   "metadata": {},
   "source": [
    "# NETFLIX CONTENTS ADDED OVER YEARS"
   ]
  },
  {
   "cell_type": "code",
   "execution_count": 170,
   "metadata": {},
   "outputs": [
    {
     "data": {
      "text/html": [
       "<div>\n",
       "<style scoped>\n",
       "    .dataframe tbody tr th:only-of-type {\n",
       "        vertical-align: middle;\n",
       "    }\n",
       "\n",
       "    .dataframe tbody tr th {\n",
       "        vertical-align: top;\n",
       "    }\n",
       "\n",
       "    .dataframe thead th {\n",
       "        text-align: right;\n",
       "    }\n",
       "</style>\n",
       "<table border=\"1\" class=\"dataframe\">\n",
       "  <thead>\n",
       "    <tr style=\"text-align: right;\">\n",
       "      <th></th>\n",
       "      <th>title</th>\n",
       "      <th>type</th>\n",
       "      <th>release_year</th>\n",
       "    </tr>\n",
       "  </thead>\n",
       "  <tbody>\n",
       "    <tr>\n",
       "      <th>0</th>\n",
       "      <td>Dick Johnson Is Dead</td>\n",
       "      <td>Movie</td>\n",
       "      <td>2020</td>\n",
       "    </tr>\n",
       "    <tr>\n",
       "      <th>1</th>\n",
       "      <td>Blood &amp; Water</td>\n",
       "      <td>TV Show</td>\n",
       "      <td>2021</td>\n",
       "    </tr>\n",
       "  </tbody>\n",
       "</table>\n",
       "</div>"
      ],
      "text/plain": [
       "                  title     type  release_year\n",
       "0  Dick Johnson Is Dead    Movie          2020\n",
       "1         Blood & Water  TV Show          2021"
      ]
     },
     "execution_count": 170,
     "metadata": {},
     "output_type": "execute_result"
    }
   ],
   "source": [
    "netflix_years = netflix[['title', 'type', 'release_year']]\n",
    "netflix_years.head(2)"
   ]
  },
  {
   "cell_type": "code",
   "execution_count": 171,
   "metadata": {},
   "outputs": [
    {
     "data": {
      "image/png": "[encoded data removed]",
      "text/plain": [
       "<Figure size 864x432 with 1 Axes>"
      ]
     },
     "metadata": {
      "needs_background": "light"
     },
     "output_type": "display_data"
    }
   ],
   "source": [
    "import numpy as np\n",
    "import matplotlib.pyplot as plt\n",
    "\n",
    "fig, ax = plt.subplots(1, 1, figsize=(12, 6))\n",
    "color = [\"#b20710\", \"#221f1f\"]\n",
    "for i, mtv in enumerate(netflix_years['type'].value_counts().index):\n",
    "    mtv_rel = netflix_years[netflix_years['type']==mtv]['release_year'].value_counts().sort_index()\n",
    "    ax.plot(mtv_rel.index, mtv_rel, color=color[i], label=mtv)\n",
    "    ax.fill_between(mtv_rel.index, 0, mtv_rel, color=color[i], alpha=0.9)\n",
    "    \n",
    "ax.yaxis.tick_right()\n",
    "    \n",
    "ax.axhline(y = 0, color = 'black', linewidth = 1.3, alpha = .7)\n",
    "\n",
    "for s in ['top', 'right','bottom','left']:\n",
    "    ax.spines[s].set_visible(False)\n",
    "\n",
    "ax.grid(False)\n",
    "\n",
    "ax.set_xlim(2008,2021)\n",
    "plt.xticks(np.arange(2008, 2022, 1))\n",
    "\n",
    "fig.text(0.13,0.85,\"Movie\", fontweight=\"bold\", fontfamily='serif', fontsize=15, color='#b20710')\n",
    "fig.text(0.19,0.85,\"|\", fontweight=\"bold\", fontfamily='serif', fontsize=15, color='black')\n",
    "fig.text(0.2,0.85,\"TV Show\", fontweight=\"bold\", fontfamily='serif', fontsize=15, color='#221f1f')\n",
    "\n",
    "ax.tick_params(axis=u'both', which=u'both',length=0)\n",
    "\n",
    "plt.savefig('../Dashboard/Components/data/netflix_content_added_over_years.png')\n",
    "plt.show()\n"
   ]
  },
  {
   "cell_type": "markdown",
   "metadata": {},
   "source": [
    "# NETFLIX CONTENTS ADDED OVER YEARS [Cumulative]"
   ]
  },
  {
   "cell_type": "code",
   "execution_count": 172,
   "metadata": {},
   "outputs": [
    {
     "data": {
      "text/html": [
       "<div>\n",
       "<style scoped>\n",
       "    .dataframe tbody tr th:only-of-type {\n",
       "        vertical-align: middle;\n",
       "    }\n",
       "\n",
       "    .dataframe tbody tr th {\n",
       "        vertical-align: top;\n",
       "    }\n",
       "\n",
       "    .dataframe thead th {\n",
       "        text-align: right;\n",
       "    }\n",
       "</style>\n",
       "<table border=\"1\" class=\"dataframe\">\n",
       "  <thead>\n",
       "    <tr style=\"text-align: right;\">\n",
       "      <th></th>\n",
       "      <th>title</th>\n",
       "      <th>type</th>\n",
       "      <th>release_year</th>\n",
       "    </tr>\n",
       "  </thead>\n",
       "  <tbody>\n",
       "    <tr>\n",
       "      <th>0</th>\n",
       "      <td>Dick Johnson Is Dead</td>\n",
       "      <td>Movie</td>\n",
       "      <td>2020</td>\n",
       "    </tr>\n",
       "    <tr>\n",
       "      <th>1</th>\n",
       "      <td>Blood &amp; Water</td>\n",
       "      <td>TV Show</td>\n",
       "      <td>2021</td>\n",
       "    </tr>\n",
       "  </tbody>\n",
       "</table>\n",
       "</div>"
      ],
      "text/plain": [
       "                  title     type  release_year\n",
       "0  Dick Johnson Is Dead    Movie          2020\n",
       "1         Blood & Water  TV Show          2021"
      ]
     },
     "execution_count": 172,
     "metadata": {},
     "output_type": "execute_result"
    }
   ],
   "source": [
    "netflix_years = netflix[['title', 'type', 'release_year']]\n",
    "netflix_years.head(2)"
   ]
  },
  {
   "cell_type": "code",
   "execution_count": 173,
   "metadata": {},
   "outputs": [
    {
     "data": {
      "image/png": "[encoded data removed]",
      "text/plain": [
       "<Figure size 864x432 with 1 Axes>"
      ]
     },
     "metadata": {
      "needs_background": "light"
     },
     "output_type": "display_data"
    }
   ],
   "source": [
    "data_sub = netflix_years.groupby('type')['release_year'].value_counts().unstack().fillna(0).loc[['TV Show','Movie']].cumsum(axis=0).T\n",
    "\n",
    "fig, ax = plt.subplots(1, 1, figsize=(12, 6))\n",
    "color = [\"#b20710\", \"#221f1f\"]\n",
    "\n",
    "for i, mtv in enumerate(netflix_years['type'].value_counts().index):\n",
    "    mtv_rel = data_sub[mtv]\n",
    "    ax.fill_between(mtv_rel.index, 0, mtv_rel, color=color[i], label=mtv,alpha=0.9)\n",
    "    \n",
    "ax.yaxis.tick_right()\n",
    "    \n",
    "ax.axhline(y = 0, color = 'black', linewidth = 1.3, alpha = .7)\n",
    "\n",
    "for s in ['top', 'right','bottom','left']:\n",
    "    ax.spines[s].set_visible(False)\n",
    "\n",
    "ax.grid(False)\n",
    "\n",
    "ax.set_xlim(2008,2021)\n",
    "plt.xticks(np.arange(2008, 2022, 1))\n",
    "\n",
    "fig.text(0.13,0.85,\"Movie\", fontweight=\"bold\", fontfamily='serif', fontsize=15, color='#b20710')\n",
    "fig.text(0.19,0.85,\"|\", fontweight=\"bold\", fontfamily='serif', fontsize=15, color='black')\n",
    "fig.text(0.2,0.85,\"TV Show\", fontweight=\"bold\", fontfamily='serif', fontsize=15, color='#221f1f')\n",
    "\n",
    "ax.tick_params(axis=u'both', which=u'both',length=0)\n",
    "\n",
    "plt.savefig('../Dashboard/Components/data/netflix_content_added_over_years_cumulative.png')\n",
    "plt.show()"
   ]
  },
  {
   "cell_type": "markdown",
   "metadata": {},
   "source": [
    "# NETFLIX TARGET"
   ]
  },
  {
   "cell_type": "code",
   "execution_count": 174,
   "metadata": {},
   "outputs": [
    {
     "data": {
      "text/html": [
       "<div>\n",
       "<style scoped>\n",
       "    .dataframe tbody tr th:only-of-type {\n",
       "        vertical-align: middle;\n",
       "    }\n",
       "\n",
       "    .dataframe tbody tr th {\n",
       "        vertical-align: top;\n",
       "    }\n",
       "\n",
       "    .dataframe thead th {\n",
       "        text-align: right;\n",
       "    }\n",
       "</style>\n",
       "<table border=\"1\" class=\"dataframe\">\n",
       "  <thead>\n",
       "    <tr style=\"text-align: right;\">\n",
       "      <th></th>\n",
       "      <th>title</th>\n",
       "      <th>rating</th>\n",
       "      <th>country</th>\n",
       "    </tr>\n",
       "  </thead>\n",
       "  <tbody>\n",
       "    <tr>\n",
       "      <th>0</th>\n",
       "      <td>Dick Johnson Is Dead</td>\n",
       "      <td>PG-13</td>\n",
       "      <td>United States</td>\n",
       "    </tr>\n",
       "    <tr>\n",
       "      <th>1</th>\n",
       "      <td>Blood &amp; Water</td>\n",
       "      <td>TV-MA</td>\n",
       "      <td>South Africa</td>\n",
       "    </tr>\n",
       "  </tbody>\n",
       "</table>\n",
       "</div>"
      ],
      "text/plain": [
       "                  title rating        country\n",
       "0  Dick Johnson Is Dead  PG-13  United States\n",
       "1         Blood & Water  TV-MA   South Africa"
      ]
     },
     "execution_count": 174,
     "metadata": {},
     "output_type": "execute_result"
    }
   ],
   "source": [
    "netflix_target = netflix[['title', 'rating', 'country']]\n",
    "netflix_target.head(2)"
   ]
  },
  {
   "cell_type": "code",
   "execution_count": 175,
   "metadata": {},
   "outputs": [
    {
     "name": "stderr",
     "output_type": "stream",
     "text": [
      "<ipython-input-175-1cbe90fbcb5a>:1: SettingWithCopyWarning: \n",
      "A value is trying to be set on a copy of a slice from a DataFrame.\n",
      "Try using .loc[row_indexer,col_indexer] = value instead\n",
      "\n",
      "See the caveats in the documentation: https://pandas.pydata.org/pandas-docs/stable/user_guide/indexing.html#returning-a-view-versus-a-copy\n",
      "  netflix_target['count'] = 1\n",
      "<ipython-input-175-1cbe90fbcb5a>:2: SettingWithCopyWarning: \n",
      "A value is trying to be set on a copy of a slice from a DataFrame.\n",
      "Try using .loc[row_indexer,col_indexer] = value instead\n",
      "\n",
      "See the caveats in the documentation: https://pandas.pydata.org/pandas-docs/stable/user_guide/indexing.html#returning-a-view-versus-a-copy\n",
      "  netflix_target['first_country'] = netflix_target['country'].apply(lambda x: x.split(\",\")[0])\n",
      "c:\\Python38\\lib\\site-packages\\pandas\\core\\series.py:4563: SettingWithCopyWarning: \n",
      "A value is trying to be set on a copy of a slice from a DataFrame\n",
      "\n",
      "See the caveats in the documentation: https://pandas.pydata.org/pandas-docs/stable/user_guide/indexing.html#returning-a-view-versus-a-copy\n",
      "  return super().replace(\n"
     ]
    }
   ],
   "source": [
    "netflix_target['count'] = 1\n",
    "netflix_target['first_country'] = netflix_target['country'].apply(lambda x: x.split(\",\")[0])\n",
    "netflix_target['first_country'].replace('United States', 'USA', inplace=True)\n",
    "netflix_target['first_country'].replace('United Kingdom', 'UK',inplace=True)\n",
    "netflix_target['first_country'].replace('South Korea', 'S. Korea',inplace=True)\n"
   ]
  },
  {
   "cell_type": "code",
   "execution_count": 176,
   "metadata": {},
   "outputs": [],
   "source": [
    "ratings_ages = {\n",
    "    'TV-PG': 'Older Kids',\n",
    "    'TV-MA': 'Adults',\n",
    "    'TV-Y7-FV': 'Older Kids',\n",
    "    'TV-Y7': 'Older Kids',\n",
    "    'TV-14': 'Teens',\n",
    "    'R': 'Adults',\n",
    "    'TV-Y': 'Kids',\n",
    "    'NR': 'Adults',\n",
    "    'PG-13': 'Teens',\n",
    "    'TV-G': 'Kids',\n",
    "    'PG': 'Older Kids',\n",
    "    'G': 'Kids',\n",
    "    'UR': 'Adults',\n",
    "    'NC-17': 'Adults'\n",
    "}"
   ]
  },
  {
   "cell_type": "code",
   "execution_count": 177,
   "metadata": {},
   "outputs": [
    {
     "name": "stderr",
     "output_type": "stream",
     "text": [
      "<ipython-input-177-f1063e83eefd>:1: SettingWithCopyWarning: \n",
      "A value is trying to be set on a copy of a slice from a DataFrame.\n",
      "Try using .loc[row_indexer,col_indexer] = value instead\n",
      "\n",
      "See the caveats in the documentation: https://pandas.pydata.org/pandas-docs/stable/user_guide/indexing.html#returning-a-view-versus-a-copy\n",
      "  netflix_target['target_ages'] = netflix_target['rating'].replace(ratings_ages)\n"
     ]
    },
    {
     "data": {
      "text/plain": [
       "array(['Teens', 'Adults', 'Older Kids', 'Kids'], dtype=object)"
      ]
     },
     "execution_count": 177,
     "metadata": {},
     "output_type": "execute_result"
    }
   ],
   "source": [
    "netflix_target['target_ages'] = netflix_target['rating'].replace(ratings_ages)\n",
    "netflix_target['target_ages'].unique()"
   ]
  },
  {
   "cell_type": "code",
   "execution_count": 178,
   "metadata": {},
   "outputs": [],
   "source": [
    "data = netflix_target.groupby('first_country')[['first_country','count']].sum().sort_values(by='count',ascending=False).reset_index()[:10]\n",
    "data = data['first_country']\n",
    "\n",
    "df_heatmap = netflix_target.loc[netflix_target['first_country'].isin(data)]"
   ]
  },
  {
   "cell_type": "code",
   "execution_count": 179,
   "metadata": {},
   "outputs": [],
   "source": [
    "df_heatmap = pd.crosstab(df_heatmap['first_country'], df_heatmap['target_ages'],normalize = \"index\").T"
   ]
  },
  {
   "cell_type": "code",
   "execution_count": 180,
   "metadata": {},
   "outputs": [
    {
     "data": {
      "text/plain": [
       "0          USA\n",
       "1        India\n",
       "2           UK\n",
       "3       Canada\n",
       "4        Japan\n",
       "5       France\n",
       "6     S. Korea\n",
       "7        Spain\n",
       "8       Mexico\n",
       "9    Australia\n",
       "Name: first_country, dtype: object"
      ]
     },
     "execution_count": 180,
     "metadata": {},
     "output_type": "execute_result"
    }
   ],
   "source": [
    "data"
   ]
  },
  {
   "cell_type": "code",
   "execution_count": 181,
   "metadata": {},
   "outputs": [
    {
     "data": {
      "image/png": "[encoded data removed]",
      "text/plain": [
       "<Figure size 864x864 with 1 Axes>"
      ]
     },
     "metadata": {
      "needs_background": "light"
     },
     "output_type": "display_data"
    }
   ],
   "source": [
    "import seaborn as sns\n",
    "import matplotlib.colors\n",
    "\n",
    "cmap = matplotlib.colors.LinearSegmentedColormap.from_list(\"\", ['#221f1f', '#b20710','#f5f5f1'])\n",
    "\n",
    "fig, ax = plt.subplots(1, 1, figsize=(12, 12))\n",
    "\n",
    "country_order2 = ['USA', 'India', 'UK', 'Canada', 'Japan', 'France', 'S. Korea', 'Spain', 'Mexico', 'Australia']\n",
    "\n",
    "age_order = ['Kids','Older Kids','Teens','Adults']\n",
    "\n",
    "sns.heatmap(df_heatmap.loc[age_order,country_order2],cmap=cmap,square=True, linewidth=2.5,cbar=False,\n",
    "            annot=True,fmt='1.0%',vmax=.6,vmin=0.05,ax=ax,annot_kws={\"fontsize\":12})\n",
    "\n",
    "ax.spines['top'].set_visible(True)\n",
    "\n",
    "ax.set_yticklabels(ax.get_yticklabels(), fontfamily='serif', rotation = 0, fontsize=11)\n",
    "ax.set_xticklabels(ax.get_xticklabels(), fontfamily='serif', rotation=90, fontsize=11)\n",
    "\n",
    "ax.set_ylabel('')    \n",
    "ax.set_xlabel('')\n",
    "ax.tick_params(axis=u'both', which=u'both',length=0)\n",
    "plt.tight_layout()\n",
    "\n",
    "plt.savefig('../Dashboard/Components/data/netflix_country_target.png')\n",
    "plt.show()"
   ]
  }
 ],
 "metadata": {
  "kernelspec": {
   "display_name": "Python 3",
   "language": "python",
   "name": "python3"
  },
  "language_info": {
   "codemirror_mode": {
    "name": "ipython",
    "version": 3
   },
   "file_extension": ".py",
   "mimetype": "text/x-python",
   "name": "python",
   "nbconvert_exporter": "python",
   "pygments_lexer": "ipython3",
   "version": "3.8.3 (tags/v3.8.3:6f8c832, May 13 2020, 22:37:02) [MSC v.1924 64 bit (AMD64)]"
  },
  "vscode": {
   "interpreter": {
    "hash": "9650cb4e16cdd4a8e8e2d128bf38d875813998db22a3c986335f89e0cb4d7bb2"
   }
  }
 },
 "nbformat": 4,
 "nbformat_minor": 4
}
